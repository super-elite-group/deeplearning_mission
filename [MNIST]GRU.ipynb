{
  "cells": [
    {
      "cell_type": "markdown",
      "metadata": {
        "id": "rkh2qVXxL3Bw"
      },
      "source": [
        "# 1. 데이터 가져오기"
      ]
    },
    {
      "cell_type": "code",
      "execution_count": 1,
      "metadata": {
        "id": "WWUtmkOxLovz"
      },
      "outputs": [],
      "source": [
        "import torchvision.transforms as T\n",
        "import torchvision\n",
        "import torch\n",
        "from torch.utils.data import DataLoader\n",
        "\n",
        "download_root = './MNIST_DATASET'\n",
        "\n",
        "mnist_transform = T.Compose([\n",
        "    T.ToTensor(),\n",
        "    T.Normalize((0.5, ), (0.5, ))\n",
        "])\n",
        "\n",
        "train_dataset = torchvision.datasets.MNIST(download_root, transform=mnist_transform, train=True, download=False)\n",
        "test_dataset = torchvision.datasets.MNIST(download_root, transform=mnist_transform, train=False, download=False)\n",
        "\n",
        "total_size = len(train_dataset)\n",
        "train_num, valid_num = int(total_size * 0.8), int(total_size * 0.2)\n",
        "train_dataset,valid_dataset = torch.utils.data.random_split(train_dataset, [train_num, valid_num])\n",
        "\n",
        "batch_size = 32\n",
        "\n",
        "train_dataloader = DataLoader(train_dataset, batch_size = batch_size, shuffle = True)\n",
        "valid_dataloader = DataLoader(valid_dataset, batch_size = batch_size, shuffle = False)\n",
        "test_dataloader = DataLoader(test_dataset, batch_size = batch_size, shuffle = False)"
      ]
    },
    {
      "cell_type": "code",
      "execution_count": 2,
      "metadata": {
        "colab": {
          "base_uri": "https://localhost:8080/"
        },
        "id": "ArpCSOs3Wpbf",
        "outputId": "84a5af4d-a01e-4e56-db7a-ec42fdfa679d"
      },
      "outputs": [
        {
          "name": "stdout",
          "output_type": "stream",
          "text": [
            "torch.Size([32, 1, 28, 28])\n",
            "1500\n"
          ]
        }
      ],
      "source": [
        "for data, label in train_dataloader:\n",
        "    print(data.shape)\n",
        "    print(len(train_dataloader))\n",
        "    break"
      ]
    },
    {
      "cell_type": "markdown",
      "metadata": {
        "id": "ixyFM52zRKhG"
      },
      "source": [
        "# 2.모델 만들기"
      ]
    },
    {
      "cell_type": "code",
      "execution_count": 3,
      "metadata": {
        "id": "1w_-DVA5RNmv"
      },
      "outputs": [],
      "source": [
        "from pytorch_lightning import LightningModule, Trainer\n",
        "import torch.optim as optim\n",
        "import torchmetrics\n",
        "import torch.nn as nn\n",
        "\n",
        "from pytorch_lightning.callbacks import EarlyStopping, LearningRateMonitor\n",
        "from pytorch_lightning.loggers import WandbLogger\n",
        "\n",
        "import wandb"
      ]
    },
    {
      "cell_type": "code",
      "execution_count": 14,
      "metadata": {},
      "outputs": [],
      "source": [
        "class GRUClassifier(LightningModule):\n",
        "    def __init__(self, input_size, hidden_size, num_layers, num_classes, lr, dropout_prob):\n",
        "        super().__init__()\n",
        "        \n",
        "        self.input_size = input_size\n",
        "        self.hidden_size = hidden_size\n",
        "        self.num_layers = num_layers\n",
        "        self.num_classes = num_classes\n",
        "        self.learning_rate = lr\n",
        "        \n",
        "        self.criterion = nn.CrossEntropyLoss()\n",
        "        self.accuracy = torchmetrics.Accuracy(task='multiclass', num_classes = num_classes)\n",
        "\n",
        "        self.gru = nn.GRU(input_size, hidden_size, num_layers, batch_first=True, dropout = dropout_prob)\n",
        "        self.fc = nn.Linear(hidden_size, num_classes)\n",
        "\n",
        "    def forward(self, x):\n",
        "        '''\n",
        "        INPUT\n",
        "            x : [32, 1, 28, 28]\n",
        "        OUTPUT\n",
        "            out : [32, 10]\n",
        "        '''\n",
        "        x = x.view(x.size(0), x.size(2), x.size(3))\n",
        "        h0 = torch.zeros(self.num_layers, x.size(0), self.hidden_size).to(x.device)\n",
        "        out, _ = self.gru(x, h0)\n",
        "        out = out[:, -1, :]\n",
        "        out = self.fc(out)\n",
        "        return out\n",
        "\n",
        "    def configure_optimizers(self):\n",
        "        optimizer = optim.Adam(self.parameters(), lr = self.learning_rate)\n",
        "        scheduler = optim.lr_scheduler.StepLR(optimizer, step_size = 1, gamma = 0.5)\n",
        "        return [optimizer], [scheduler]\n",
        "        \n",
        "    def training_step(self, batch, batch_idx):\n",
        "        x, y = batch\n",
        "        y_hat = self(x)\n",
        "\n",
        "        loss = self.criterion(y_hat, y)\n",
        "\n",
        "        _, predict = torch.max(y_hat, dim = 1)\n",
        "        acc = self.accuracy(predict, y)\n",
        "\n",
        "        self.log(f\"train_loss\", loss, on_step = False, on_epoch = True, logger = True)\n",
        "        self.log(f\"train_acc\", acc, on_step = False, on_epoch = True, logger = True)\n",
        "        \n",
        "        return loss\n",
        "\n",
        "    def validation_step(self, batch, batch_idx):\n",
        "        x, y = batch\n",
        "        y_hat = self(x)\n",
        "\n",
        "        loss = self.criterion(y_hat, y)\n",
        "\n",
        "        _, predict = torch.max(y_hat, dim = 1)\n",
        "        acc = self.accuracy(predict, y)\n",
        "\n",
        "        self.log(f\"valid_loss\", loss, on_step = False, on_epoch = True, logger = True)\n",
        "        self.log(f\"valid_acc\", acc, on_step = False, on_epoch = True, logger = True)\n",
        "        \n",
        "    def test_step(self, batch, batch_idx):\n",
        "        x, y = batch\n",
        "        y_hat = self(x)\n",
        "\n",
        "        loss = self.criterion(y_hat, y)\n",
        "\n",
        "        _, predict = torch.max(y_hat, dim = 1)\n",
        "        acc = self.accuracy(predict, y)\n",
        "\n",
        "        self.log(f\"test_loss\", loss, on_step = False, on_epoch = True, logger = True)\n",
        "        self.log(f\"test_acc\", acc, on_step = False, on_epoch = True, logger = True)\n",
        "        \n",
        "\n",
        "    def predict_step(self, batch, batch_idx):\n",
        "        x, y = batch\n",
        "        y_hat = self(x)\n",
        "\n",
        "        _, predict = torch.max(y_hat, dim = 1)\n",
        "\n",
        "        return predict"
      ]
    },
    {
      "cell_type": "markdown",
      "metadata": {
        "id": "0u4C0ZsEWiXO"
      },
      "source": [
        "# 3. 모델 실행 및 평가"
      ]
    },
    {
      "cell_type": "code",
      "execution_count": 15,
      "metadata": {},
      "outputs": [],
      "source": [
        "# configs\n",
        "\n",
        "configs = {\n",
        "    'hidden_size' : 64,\n",
        "    'num_layers': 2,\n",
        "    'lr' : 0.001,\n",
        "    'dropout' : 0.2,\n",
        "    'max_eppoch' : 100,\n",
        "    'patence' : 5\n",
        "}"
      ]
    },
    {
      "cell_type": "code",
      "execution_count": 17,
      "metadata": {},
      "outputs": [
        {
          "name": "stderr",
          "output_type": "stream",
          "text": [
            "GPU available: True (mps), used: True\n",
            "TPU available: False, using: 0 TPU cores\n",
            "HPU available: False, using: 0 HPUs\n",
            "\n",
            "  | Name      | Type               | Params | Mode \n",
            "---------------------------------------------------------\n",
            "0 | criterion | CrossEntropyLoss   | 0      | train\n",
            "1 | accuracy  | MulticlassAccuracy | 0      | train\n",
            "2 | gru       | GRU                | 159 K  | train\n",
            "3 | fc        | Linear             | 1.3 K  | train\n",
            "---------------------------------------------------------\n",
            "161 K     Trainable params\n",
            "0         Non-trainable params\n",
            "161 K     Total params\n",
            "0.644     Total estimated model params size (MB)\n"
          ]
        },
        {
          "data": {
            "application/vnd.jupyter.widget-view+json": {
              "model_id": "c1c6cc233b1649b7a6dea9564b31a3a1",
              "version_major": 2,
              "version_minor": 0
            },
            "text/plain": [
              "Sanity Checking: |          | 0/? [00:00<?, ?it/s]"
            ]
          },
          "metadata": {},
          "output_type": "display_data"
        },
        {
          "data": {
            "application/vnd.jupyter.widget-view+json": {
              "model_id": "73311738d3014c4bba0b69d65d743bf3",
              "version_major": 2,
              "version_minor": 0
            },
            "text/plain": [
              "Training: |          | 0/? [00:00<?, ?it/s]"
            ]
          },
          "metadata": {},
          "output_type": "display_data"
        },
        {
          "data": {
            "application/vnd.jupyter.widget-view+json": {
              "model_id": "9183c8ac738543f4b91d814fbf20b142",
              "version_major": 2,
              "version_minor": 0
            },
            "text/plain": [
              "Validation: |          | 0/? [00:00<?, ?it/s]"
            ]
          },
          "metadata": {},
          "output_type": "display_data"
        },
        {
          "data": {
            "application/vnd.jupyter.widget-view+json": {
              "model_id": "b0b7761d0a254cce9e096d3d5ddb477c",
              "version_major": 2,
              "version_minor": 0
            },
            "text/plain": [
              "Validation: |          | 0/? [00:00<?, ?it/s]"
            ]
          },
          "metadata": {},
          "output_type": "display_data"
        },
        {
          "data": {
            "application/vnd.jupyter.widget-view+json": {
              "model_id": "d946052ea1574e398487dffcb655ed33",
              "version_major": 2,
              "version_minor": 0
            },
            "text/plain": [
              "Validation: |          | 0/? [00:00<?, ?it/s]"
            ]
          },
          "metadata": {},
          "output_type": "display_data"
        },
        {
          "data": {
            "application/vnd.jupyter.widget-view+json": {
              "model_id": "c2dc3e512e374cbbb8ad1b2f6adece08",
              "version_major": 2,
              "version_minor": 0
            },
            "text/plain": [
              "Validation: |          | 0/? [00:00<?, ?it/s]"
            ]
          },
          "metadata": {},
          "output_type": "display_data"
        },
        {
          "data": {
            "application/vnd.jupyter.widget-view+json": {
              "model_id": "9ab1dfecbbb64d5aa6c8d7aa04bb0eb8",
              "version_major": 2,
              "version_minor": 0
            },
            "text/plain": [
              "Validation: |          | 0/? [00:00<?, ?it/s]"
            ]
          },
          "metadata": {},
          "output_type": "display_data"
        },
        {
          "data": {
            "application/vnd.jupyter.widget-view+json": {
              "model_id": "a8dce97b38d14e5abb031ab9bf385b56",
              "version_major": 2,
              "version_minor": 0
            },
            "text/plain": [
              "Validation: |          | 0/? [00:00<?, ?it/s]"
            ]
          },
          "metadata": {},
          "output_type": "display_data"
        },
        {
          "data": {
            "application/vnd.jupyter.widget-view+json": {
              "model_id": "9dc1f69db5fd433fa01433764fc451e3",
              "version_major": 2,
              "version_minor": 0
            },
            "text/plain": [
              "Validation: |          | 0/? [00:00<?, ?it/s]"
            ]
          },
          "metadata": {},
          "output_type": "display_data"
        },
        {
          "data": {
            "application/vnd.jupyter.widget-view+json": {
              "model_id": "cb607a51f2af42329c895f89067e631d",
              "version_major": 2,
              "version_minor": 0
            },
            "text/plain": [
              "Validation: |          | 0/? [00:00<?, ?it/s]"
            ]
          },
          "metadata": {},
          "output_type": "display_data"
        },
        {
          "data": {
            "application/vnd.jupyter.widget-view+json": {
              "model_id": "620651f6eecf463ba1a96813135e1f2d",
              "version_major": 2,
              "version_minor": 0
            },
            "text/plain": [
              "Validation: |          | 0/? [00:00<?, ?it/s]"
            ]
          },
          "metadata": {},
          "output_type": "display_data"
        },
        {
          "data": {
            "application/vnd.jupyter.widget-view+json": {
              "model_id": "8df1da6081744440a1bedc97f3a314e1",
              "version_major": 2,
              "version_minor": 0
            },
            "text/plain": [
              "Validation: |          | 0/? [00:00<?, ?it/s]"
            ]
          },
          "metadata": {},
          "output_type": "display_data"
        },
        {
          "data": {
            "application/vnd.jupyter.widget-view+json": {
              "model_id": "71ab2231ca2b4317bee331d6abfeec2d",
              "version_major": 2,
              "version_minor": 0
            },
            "text/plain": [
              "Validation: |          | 0/? [00:00<?, ?it/s]"
            ]
          },
          "metadata": {},
          "output_type": "display_data"
        },
        {
          "data": {
            "application/vnd.jupyter.widget-view+json": {
              "model_id": "01fdbf790799404296aa310bacc66117",
              "version_major": 2,
              "version_minor": 0
            },
            "text/plain": [
              "Validation: |          | 0/? [00:00<?, ?it/s]"
            ]
          },
          "metadata": {},
          "output_type": "display_data"
        },
        {
          "data": {
            "application/vnd.jupyter.widget-view+json": {
              "model_id": "c0dcdbd6910c4aa9a7820ec35691d087",
              "version_major": 2,
              "version_minor": 0
            },
            "text/plain": [
              "Validation: |          | 0/? [00:00<?, ?it/s]"
            ]
          },
          "metadata": {},
          "output_type": "display_data"
        },
        {
          "data": {
            "application/vnd.jupyter.widget-view+json": {
              "model_id": "99402741bc68438981af093c3f7b5568",
              "version_major": 2,
              "version_minor": 0
            },
            "text/plain": [
              "Testing: |          | 0/? [00:00<?, ?it/s]"
            ]
          },
          "metadata": {},
          "output_type": "display_data"
        },
        {
          "data": {
            "text/html": [
              "<pre style=\"white-space:pre;overflow-x:auto;line-height:normal;font-family:Menlo,'DejaVu Sans Mono',consolas,'Courier New',monospace\">┏━━━━━━━━━━━━━━━━━━━━━━━━━━━┳━━━━━━━━━━━━━━━━━━━━━━━━━━━┓\n",
              "┃<span style=\"font-weight: bold\">        Test metric        </span>┃<span style=\"font-weight: bold\">       DataLoader 0        </span>┃\n",
              "┡━━━━━━━━━━━━━━━━━━━━━━━━━━━╇━━━━━━━━━━━━━━━━━━━━━━━━━━━┩\n",
              "│<span style=\"color: #008080; text-decoration-color: #008080\">         test_acc          </span>│<span style=\"color: #800080; text-decoration-color: #800080\">    0.9897000193595886     </span>│\n",
              "│<span style=\"color: #008080; text-decoration-color: #008080\">         test_loss         </span>│<span style=\"color: #800080; text-decoration-color: #800080\">    0.03542693331837654    </span>│\n",
              "└───────────────────────────┴───────────────────────────┘\n",
              "</pre>\n"
            ],
            "text/plain": [
              "┏━━━━━━━━━━━━━━━━━━━━━━━━━━━┳━━━━━━━━━━━━━━━━━━━━━━━━━━━┓\n",
              "┃\u001b[1m \u001b[0m\u001b[1m       Test metric       \u001b[0m\u001b[1m \u001b[0m┃\u001b[1m \u001b[0m\u001b[1m      DataLoader 0       \u001b[0m\u001b[1m \u001b[0m┃\n",
              "┡━━━━━━━━━━━━━━━━━━━━━━━━━━━╇━━━━━━━━━━━━━━━━━━━━━━━━━━━┩\n",
              "│\u001b[36m \u001b[0m\u001b[36m        test_acc         \u001b[0m\u001b[36m \u001b[0m│\u001b[35m \u001b[0m\u001b[35m   0.9897000193595886    \u001b[0m\u001b[35m \u001b[0m│\n",
              "│\u001b[36m \u001b[0m\u001b[36m        test_loss        \u001b[0m\u001b[36m \u001b[0m│\u001b[35m \u001b[0m\u001b[35m   0.03542693331837654   \u001b[0m\u001b[35m \u001b[0m│\n",
              "└───────────────────────────┴───────────────────────────┘\n"
            ]
          },
          "metadata": {},
          "output_type": "display_data"
        },
        {
          "data": {
            "text/plain": [
              "[{'test_loss': 0.03542693331837654, 'test_acc': 0.9897000193595886}]"
            ]
          },
          "execution_count": 17,
          "metadata": {},
          "output_type": "execute_result"
        }
      ],
      "source": [
        "model = GRUClassifier(input_size = 28, hidden_size = 128, num_layers = 2, num_classes = 10, lr = 0.001, dropout_prob=0.2)\n",
        "\n",
        "early_stopping = EarlyStopping(monitor = 'valid_loss', mode = 'min', patience=5)\n",
        "lr_mointor = LearningRateMonitor(logging_interval = 'epoch')\n",
        "\n",
        "wandb_logger = WandbLogger(project = 'MNIST_GRU')\n",
        "\n",
        "trainer = Trainer(\n",
        "    max_epochs = 100,\n",
        "    accelerator = 'auto',\n",
        "    callbacks = [early_stopping, lr_mointor],\n",
        "    logger = wandb_logger\n",
        ")\n",
        "\n",
        "trainer.fit(\n",
        "    model,\n",
        "    train_dataloader,\n",
        "    valid_dataloader\n",
        ")\n",
        "\n",
        "trainer.test(model, test_dataloader)"
      ]
    },
    {
      "cell_type": "code",
      "execution_count": null,
      "metadata": {},
      "outputs": [],
      "source": []
    }
  ],
  "metadata": {
    "accelerator": "TPU",
    "colab": {
      "gpuType": "V28",
      "machine_shape": "hm",
      "provenance": []
    },
    "kernelspec": {
      "display_name": "Python 3",
      "name": "python3"
    },
    "language_info": {
      "codemirror_mode": {
        "name": "ipython",
        "version": 3
      },
      "file_extension": ".py",
      "mimetype": "text/x-python",
      "name": "python",
      "nbconvert_exporter": "python",
      "pygments_lexer": "ipython3",
      "version": "3.11.8"
    }
  },
  "nbformat": 4,
  "nbformat_minor": 0
}
